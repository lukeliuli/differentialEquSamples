{
 "cells": [
  {
   "cell_type": "markdown",
   "id": "9d09fa6a-e4b6-4ecc-84f2-5bdf2b044b3d",
   "metadata": {},
   "source": [
    "$$\n",
    "x = \\frac{-b \\pm \\sqrt{b^2 - 4ac}}{2a}\n",
    "$$"
   ]
  },
  {
   "cell_type": "markdown",
   "id": "9ac8eba7-f42e-4b12-98cf-ec4153a1bd48",
   "metadata": {},
   "source": [
    "$ f(x) = a+b $"
   ]
  },
  {
   "cell_type": "markdown",
   "id": "f511f172-944d-46c0-8f82-148960096604",
   "metadata": {},
   "source": [
    "https://blog.csdn.net/qq_33746593/article/details/106109081\n",
    "$$ f(x) = a+b\\tag{1} $$"
   ]
  },
  {
   "cell_type": "markdown",
   "id": "cd913c93-1559-4f33-ad57-ccfe808baf2a",
   "metadata": {},
   "source": [
    "$$ X+2-3*4/6 = 4/y+x\\cdot y $$"
   ]
  },
  {
   "cell_type": "markdown",
   "id": "1b4ff818-787f-4647-8237-86d7e48ad9bd",
   "metadata": {},
   "source": [
    "二次方程的求解公式为：\n",
    "$$\n",
    "x = \\frac{-b \\pm \\sqrt{b^2 - 4ac}}{2a}\n",
    "$$\n"
   ]
  },
  {
   "cell_type": "markdown",
   "id": "1335b261-dc56-4993-b253-096946487700",
   "metadata": {},
   "source": [
    "$$ 0 \\neq 1 \\quad x \\equiv x \\quad 1 = 9 \\bmod 2 $$\n"
   ]
  },
  {
   "cell_type": "markdown",
   "id": "6788d826-06b8-4415-889a-6a13509f6201",
   "metadata": {},
   "source": [
    "$$ a_{ij}^{2} + b^3_{2}=x^{t+1} $$\n"
   ]
  },
  {
   "cell_type": "markdown",
   "id": "e355b2c1-c10d-45ce-b425-6f3ff30205c4",
   "metadata": {},
   "source": [
    "$$ \\sqrt{x} + \\sqrt{x^{2}+\\sqrt{y \\cdot (\\frac{\\sqrt5}{2})}} = \\sqrt[3]{k_{i}} - \\frac{x}{m} $$"
   ]
  },
  {
   "cell_type": "markdown",
   "id": "2f55bec0-21ca-4ae4-8b59-86782ae558bc",
   "metadata": {},
   "source": [
    "$$\\overline{x+y} \\qquad \\underline{a+b}$$"
   ]
  },
  {
   "cell_type": "markdown",
   "id": "34f087c7-6c60-45fa-9991-a2462edac61e",
   "metadata": {},
   "source": [
    "$$  \\lim_{x \\to \\infty} x^2_{22} - \\int_{1}^{5}x\\mathrm{d}x + \\sum_{n=1}^{20} n^{2} = \\prod_{j=1}^{3} y_{j}  + \\lim_{x \\to -2} \\frac{x-2}{x} $$\n",
    "\n",
    "\n",
    "$$\\begin{bmatrix}\n",
    "1 & 2 & \\cdots \\\\\n",
    "67 & 95 & \\cdots \\\\\n",
    "\\vdots  & \\vdots & \\ddots \\\\\n",
    "\\end{bmatrix}$$\n"
   ]
  },
  {
   "cell_type": "markdown",
   "id": "3df0a3ca-8dbc-4769-b6d8-3fe348f79a57",
   "metadata": {},
   "source": [
    "$$ x_{1},x_{2},\\ldots,x_{5}  \\quad x_{1} + x_{2} + \\cdots + x_{n} $$\n",
    "$$ \\bar{x} $$"
   ]
  },
  {
   "cell_type": "code",
   "execution_count": null,
   "id": "7bae56a9-7016-47fa-ba28-aee4d46a799a",
   "metadata": {},
   "outputs": [],
   "source": []
  }
 ],
 "metadata": {
  "kernelspec": {
   "display_name": "tensor23py36gpu",
   "language": "python",
   "name": "tensor23py36gpu"
  },
  "language_info": {
   "codemirror_mode": {
    "name": "ipython",
    "version": 3
   },
   "file_extension": ".py",
   "mimetype": "text/x-python",
   "name": "python",
   "nbconvert_exporter": "python",
   "pygments_lexer": "ipython3",
   "version": "3.6.15"
  }
 },
 "nbformat": 4,
 "nbformat_minor": 5
}
